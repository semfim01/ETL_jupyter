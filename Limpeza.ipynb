{
 "cells": [
  {
   "cell_type": "code",
   "execution_count": 1,
   "id": "267e7beb",
   "metadata": {},
   "outputs": [],
   "source": [
    "import pandas as pd"
   ]
  },
  {
   "cell_type": "code",
   "execution_count": 2,
   "id": "a62dc9b1",
   "metadata": {},
   "outputs": [
    {
     "data": {
      "text/html": [
       "<div>\n",
       "<style scoped>\n",
       "    .dataframe tbody tr th:only-of-type {\n",
       "        vertical-align: middle;\n",
       "    }\n",
       "\n",
       "    .dataframe tbody tr th {\n",
       "        vertical-align: top;\n",
       "    }\n",
       "\n",
       "    .dataframe thead th {\n",
       "        text-align: right;\n",
       "    }\n",
       "</style>\n",
       "<table border=\"1\" class=\"dataframe\">\n",
       "  <thead>\n",
       "    <tr style=\"text-align: right;\">\n",
       "      <th></th>\n",
       "      <th>codigo_ocorrencia</th>\n",
       "      <th>codigo_ocorrencia2</th>\n",
       "      <th>ocorrencia_classificacao</th>\n",
       "      <th>ocorrencia_cidade</th>\n",
       "      <th>ocorrencia_uf</th>\n",
       "      <th>ocorrencia_aerodromo</th>\n",
       "      <th>ocorrencia_dia</th>\n",
       "      <th>ocorrencia_hora</th>\n",
       "      <th>total_recomendacoes</th>\n",
       "    </tr>\n",
       "  </thead>\n",
       "  <tbody>\n",
       "    <tr>\n",
       "      <th>0</th>\n",
       "      <td>81027</td>\n",
       "      <td>81027</td>\n",
       "      <td>INCIDENTE GRAVE</td>\n",
       "      <td>SÃO PAULO</td>\n",
       "      <td>SP</td>\n",
       "      <td>SBSP</td>\n",
       "      <td>2022-10-09</td>\n",
       "      <td>16:30:00</td>\n",
       "      <td>0</td>\n",
       "    </tr>\n",
       "    <tr>\n",
       "      <th>1</th>\n",
       "      <td>81030</td>\n",
       "      <td>81030</td>\n",
       "      <td>INCIDENTE</td>\n",
       "      <td>VITÓRIA</td>\n",
       "      <td>ES</td>\n",
       "      <td>SBVT</td>\n",
       "      <td>2022-10-09</td>\n",
       "      <td>16:20:00</td>\n",
       "      <td>0</td>\n",
       "    </tr>\n",
       "    <tr>\n",
       "      <th>2</th>\n",
       "      <td>81023</td>\n",
       "      <td>81023</td>\n",
       "      <td>INCIDENTE GRAVE</td>\n",
       "      <td>AMERICANA</td>\n",
       "      <td>SP</td>\n",
       "      <td>SDAI</td>\n",
       "      <td>2022-10-06</td>\n",
       "      <td>15:30:00</td>\n",
       "      <td>0</td>\n",
       "    </tr>\n",
       "    <tr>\n",
       "      <th>3</th>\n",
       "      <td>81029</td>\n",
       "      <td>81029</td>\n",
       "      <td>INCIDENTE</td>\n",
       "      <td>BELO HORIZONTE</td>\n",
       "      <td>MG</td>\n",
       "      <td>SBBH</td>\n",
       "      <td>2022-10-06</td>\n",
       "      <td>00:44:00</td>\n",
       "      <td>0</td>\n",
       "    </tr>\n",
       "    <tr>\n",
       "      <th>4</th>\n",
       "      <td>81025</td>\n",
       "      <td>81025</td>\n",
       "      <td>INCIDENTE</td>\n",
       "      <td>MANAUS</td>\n",
       "      <td>AM</td>\n",
       "      <td>SBEG</td>\n",
       "      <td>2022-10-05</td>\n",
       "      <td>20:56:00</td>\n",
       "      <td>0</td>\n",
       "    </tr>\n",
       "  </tbody>\n",
       "</table>\n",
       "</div>"
      ],
      "text/plain": [
       "   codigo_ocorrencia  codigo_ocorrencia2 ocorrencia_classificacao  \\\n",
       "0              81027               81027          INCIDENTE GRAVE   \n",
       "1              81030               81030                INCIDENTE   \n",
       "2              81023               81023          INCIDENTE GRAVE   \n",
       "3              81029               81029                INCIDENTE   \n",
       "4              81025               81025                INCIDENTE   \n",
       "\n",
       "  ocorrencia_cidade ocorrencia_uf ocorrencia_aerodromo ocorrencia_dia  \\\n",
       "0         SÃO PAULO            SP                 SBSP     2022-10-09   \n",
       "1           VITÓRIA            ES                 SBVT     2022-10-09   \n",
       "2         AMERICANA            SP                 SDAI     2022-10-06   \n",
       "3    BELO HORIZONTE            MG                 SBBH     2022-10-06   \n",
       "4            MANAUS            AM                 SBEG     2022-10-05   \n",
       "\n",
       "  ocorrencia_hora  total_recomendacoes  \n",
       "0        16:30:00                    0  \n",
       "1        16:20:00                    0  \n",
       "2        15:30:00                    0  \n",
       "3        00:44:00                    0  \n",
       "4        20:56:00                    0  "
      ]
     },
     "execution_count": 2,
     "metadata": {},
     "output_type": "execute_result"
    }
   ],
   "source": [
    "df = pd.read_csv(\"ocorrencia_2010.csv\", parse_dates=['ocorrencia_dia'], dayfirst=True)\n",
    "df.head()"
   ]
  },
  {
   "cell_type": "code",
   "execution_count": 3,
   "id": "d3d0b555",
   "metadata": {},
   "outputs": [
    {
     "data": {
      "text/plain": [
       "'VITÓRIA'"
      ]
     },
     "execution_count": 3,
     "metadata": {},
     "output_type": "execute_result"
    }
   ],
   "source": [
    "df.loc[1,'ocorrencia_cidade']\n",
    "#set a informação que será selecionada"
   ]
  },
  {
   "cell_type": "code",
   "execution_count": 5,
   "id": "e5084f1f",
   "metadata": {},
   "outputs": [
    {
     "data": {
      "text/html": [
       "<div>\n",
       "<style scoped>\n",
       "    .dataframe tbody tr th:only-of-type {\n",
       "        vertical-align: middle;\n",
       "    }\n",
       "\n",
       "    .dataframe tbody tr th {\n",
       "        vertical-align: top;\n",
       "    }\n",
       "\n",
       "    .dataframe thead th {\n",
       "        text-align: right;\n",
       "    }\n",
       "</style>\n",
       "<table border=\"1\" class=\"dataframe\">\n",
       "  <thead>\n",
       "    <tr style=\"text-align: right;\">\n",
       "      <th></th>\n",
       "      <th>codigo_ocorrencia</th>\n",
       "      <th>codigo_ocorrencia2</th>\n",
       "      <th>ocorrencia_classificacao</th>\n",
       "      <th>ocorrencia_cidade</th>\n",
       "      <th>ocorrencia_uf</th>\n",
       "      <th>ocorrencia_aerodromo</th>\n",
       "      <th>ocorrencia_dia</th>\n",
       "      <th>ocorrencia_hora</th>\n",
       "      <th>total_recomendacoes</th>\n",
       "    </tr>\n",
       "  </thead>\n",
       "  <tbody>\n",
       "    <tr>\n",
       "      <th>10</th>\n",
       "      <td>81017</td>\n",
       "      <td>81017</td>\n",
       "      <td>INCIDENTE GRAVE</td>\n",
       "      <td>GOIÂNIA</td>\n",
       "      <td>GO</td>\n",
       "      <td>SBNV</td>\n",
       "      <td>2022-09-30</td>\n",
       "      <td>13:40:00</td>\n",
       "      <td>0</td>\n",
       "    </tr>\n",
       "    <tr>\n",
       "      <th>40</th>\n",
       "      <td>80978</td>\n",
       "      <td>80978</td>\n",
       "      <td>ACIDENTE</td>\n",
       "      <td>SANTA HELENA DE GOIÁS</td>\n",
       "      <td>GO</td>\n",
       "      <td>***</td>\n",
       "      <td>2022-09-09</td>\n",
       "      <td>15:40:00</td>\n",
       "      <td>0</td>\n",
       "    </tr>\n",
       "  </tbody>\n",
       "</table>\n",
       "</div>"
      ],
      "text/plain": [
       "    codigo_ocorrencia  codigo_ocorrencia2 ocorrencia_classificacao  \\\n",
       "10              81017               81017          INCIDENTE GRAVE   \n",
       "40              80978               80978                 ACIDENTE   \n",
       "\n",
       "        ocorrencia_cidade ocorrencia_uf ocorrencia_aerodromo ocorrencia_dia  \\\n",
       "10                GOIÂNIA            GO                 SBNV     2022-09-30   \n",
       "40  SANTA HELENA DE GOIÁS            GO                  ***     2022-09-09   \n",
       "\n",
       "   ocorrencia_hora  total_recomendacoes  \n",
       "10        13:40:00                    0  \n",
       "40        15:40:00                    0  "
      ]
     },
     "execution_count": 5,
     "metadata": {},
     "output_type": "execute_result"
    }
   ],
   "source": [
    "df.loc[[10,40]]\n",
    "#isso não é um indice e sim um label "
   ]
  },
  {
   "cell_type": "code",
   "execution_count": 6,
   "id": "e2758fd6",
   "metadata": {},
   "outputs": [
    {
     "data": {
      "text/plain": [
       "0                SÃO PAULO\n",
       "1                  VITÓRIA\n",
       "2                AMERICANA\n",
       "3           BELO HORIZONTE\n",
       "4                   MANAUS\n",
       "               ...        \n",
       "6764               PELOTAS\n",
       "6765    LUCAS DO RIO VERDE\n",
       "6766        RIO DE JANEIRO\n",
       "6767                 BELÉM\n",
       "6768        RIO DE JANEIRO\n",
       "Name: ocorrencia_cidade, Length: 6769, dtype: object"
      ]
     },
     "execution_count": 6,
     "metadata": {},
     "output_type": "execute_result"
    }
   ],
   "source": [
    "df.loc[:,'ocorrencia_cidade']\n",
    "#vai trazer todas as informações de uma coluna "
   ]
  },
  {
   "cell_type": "code",
   "execution_count": null,
   "id": "fd75e0c8",
   "metadata": {},
   "outputs": [],
   "source": []
  }
 ],
 "metadata": {
  "kernelspec": {
   "display_name": "Python 3 (ipykernel)",
   "language": "python",
   "name": "python3"
  },
  "language_info": {
   "codemirror_mode": {
    "name": "ipython",
    "version": 3
   },
   "file_extension": ".py",
   "mimetype": "text/x-python",
   "name": "python",
   "nbconvert_exporter": "python",
   "pygments_lexer": "ipython3",
   "version": "3.9.13"
  }
 },
 "nbformat": 4,
 "nbformat_minor": 5
}
